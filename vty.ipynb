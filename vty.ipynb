{
 "cells": [
  {
   "cell_type": "code",
   "execution_count": 7,
   "metadata": {},
   "outputs": [
    {
     "name": "stdout",
     "output_type": "stream",
     "text": [
      "Введите ID пользователя 70845214\n",
      "Введите количество фотографий для скачивания: 5\n",
      "Введите токен c Полигона Яндекс.Диска: y0_AgAAAAAGNd34AADLWwAAAADS1FC1Z-CMAAs5TMiL396aot8DDLQ3jgc\n",
      "Введите название новой папки hi\n",
      "Новая папка hi создана\n"
     ]
    },
    {
     "name": "stderr",
     "output_type": "stream",
     "text": [
      "100%|██████████| 5/5 [00:05<00:00,  1.00s/it]"
     ]
    },
    {
     "name": "stdout",
     "output_type": "stream",
     "text": [
      "Скачивание успешно завершено!\n"
     ]
    },
    {
     "name": "stderr",
     "output_type": "stream",
     "text": [
      "\n"
     ]
    }
   ],
   "source": [
    "import time\n",
    "import requests\n",
    "import json\n",
    "\n",
    "def download_foto_vk():\n",
    "    \n",
    "    from tqdm import tqdm\n",
    "    \n",
    "    token_vk = ''\n",
    "    url_vk = 'http://api.vk.com/method/photos.get'\n",
    "    params_vk = {\n",
    "        'owner_id': input('Введите ID пользователя '),\n",
    "        'access_token': token_vk,\n",
    "        'v': '5.131',\n",
    "        'album_id': 'profile',\n",
    "        'count': input('Введите количество фотографий для скачивания: '),\n",
    "        'extended': '1'\n",
    "    }\n",
    "    if params_vk['count'] == '':\n",
    "        params_vk['count'] = '5'\n",
    "    res = requests.get(url_vk, params=params_vk)\n",
    "\n",
    "    token_ya = input('Введите токен c Полигона Яндекс.Диска: ')\n",
    "    headers = {\n",
    "        'Content-Type': 'application/json',\n",
    "        'Authorization': '{}'.format(token_ya)\n",
    "              }\n",
    "    dir = input('Введите название новой папки ')\n",
    "    open_dir_url = 'https://cloud-api.yandex.net/v1/disk/resources'\n",
    "    params_open_dir = {'path': f'disk:/{dir}/'}\n",
    "    response_open_dir = requests.put(open_dir_url, headers=headers, params=params_open_dir)\n",
    "    if response_open_dir.status_code == 201:\n",
    "        print(f\"Новая папка {dir} создана\")\n",
    "    likes_list = []\n",
    "    json_list = []\n",
    "    mylist = []\n",
    "    for el in res.json()['response']['items']:\n",
    "        upload_url = 'https://cloud-api.yandex.net/v1/disk/resources/upload'\n",
    "        q = {}\n",
    "\n",
    "        if el['likes']['count'] in likes_list:\n",
    "            params_ya = {'url': \"{}\".format(el['sizes'][-1]['url']),\n",
    "                         'path': f\"disk:/{dir}/{el['likes']['count']},\"\n",
    "                          f\"{str(time.ctime(el['date'])).split()}.jpg\"}\n",
    "            q[\"file_name\"] = f\"{el['likes']['count']},{str(time.ctime(el['date']))}.jpg\"\n",
    "\n",
    "        else:\n",
    "            params_ya = {'url': \"{}\".format(el['sizes'][-1]['url']), \n",
    "                         'path': f\"disk:/{dir}/{el['likes']['count']}.jpg\"}\n",
    "            q[\"file_name\"] = f\"{el['likes']['count']}.jpg\"\n",
    "\n",
    "        mylist.append(1)\n",
    "        res = requests.post(upload_url, headers=headers, params=params_ya)\n",
    "        q[\"size\"] = el['sizes'][-1]['type']\n",
    "        json_list.append(q)\n",
    "        likes_list.append(el['likes']['count'])\n",
    "\n",
    "    with open(\"r.json\", \"w+\") as f:\n",
    "        json.dump(json_list, f, indent=1)\n",
    "\n",
    "    for i in tqdm(mylist):\n",
    "        time.sleep(1)\n",
    "\n",
    "    if res.status_code == 202:\n",
    "        print('Скачивание успешно завершено!')\n",
    "\n",
    "if __name__ == '__main__':\n",
    "    result = download_foto_vk()"
   ]
  },
  {
   "cell_type": "code",
   "execution_count": null,
   "metadata": {},
   "outputs": [],
   "source": []
  }
 ],
 "metadata": {
  "kernelspec": {
   "display_name": "Python 3",
   "language": "python",
   "name": "python3"
  },
  "language_info": {
   "codemirror_mode": {
    "name": "ipython",
    "version": 3
   },
   "file_extension": ".py",
   "mimetype": "text/x-python",
   "name": "python",
   "nbconvert_exporter": "python",
   "pygments_lexer": "ipython3",
   "version": "3.7.3"
  }
 },
 "nbformat": 4,
 "nbformat_minor": 2
}
